{
 "cells": [
  {
   "cell_type": "markdown",
   "metadata": {},
   "source": [
    "### Adding scripts to the path of the notebook"
   ]
  },
  {
   "cell_type": "code",
   "execution_count": 1,
   "metadata": {},
   "outputs": [
    {
     "name": "stdout",
     "output_type": "stream",
     "text": [
      "d:\\KifiyaAIM-Course\\Week - 5\\EthioMart_E-Commerce_NER\\notebooks\n"
     ]
    }
   ],
   "source": [
    "import os, sys\n",
    "\n",
    "current_dir = os.getcwd()\n",
    "print(current_dir)\n",
    "\n",
    "# Get the parent directory\n",
    "parent_dir = os.path.dirname(current_dir)\n",
    "\n",
    "scripts_path = os.path.join(parent_dir, 'scripts')\n",
    "\n",
    "# Insert the path to the parent directory\n",
    "sys.path.insert(0, parent_dir)\n",
    "\n",
    "# Insert the path to the Scripts directory\n",
    "sys.path.insert(0, scripts_path)\n",
    "\n",
    "# Add the parent directory to the Python path\n",
    "sys.path.append(os.path.abspath(os.path.join('..')))"
   ]
  },
  {
   "cell_type": "markdown",
   "metadata": {},
   "source": [
    "### Import Statements"
   ]
  },
  {
   "cell_type": "code",
   "execution_count": 2,
   "metadata": {},
   "outputs": [],
   "source": [
    "import math\n",
    "import numpy as np\n",
    "import pandas as pd\n",
    "import seaborn as sns\n",
    "import matplotlib.pyplot as plt"
   ]
  },
  {
   "cell_type": "code",
   "execution_count": 3,
   "metadata": {},
   "outputs": [],
   "source": [
    "sns.set_theme()"
   ]
  },
  {
   "cell_type": "markdown",
   "metadata": {},
   "source": [
    "### Load dataset"
   ]
  },
  {
   "cell_type": "code",
   "execution_count": 4,
   "metadata": {},
   "outputs": [],
   "source": [
    "# path to dataset\n",
    "PRE_PROCESSED_DATA = \"../data/telegram_data_preprocessed.csv\"\n",
    "\n",
    "data = pd.read_csv(PRE_PROCESSED_DATA)"
   ]
  },
  {
   "cell_type": "markdown",
   "metadata": {},
   "source": [
    "### Start Labelling process"
   ]
  },
  {
   "cell_type": "code",
   "execution_count": 14,
   "metadata": {},
   "outputs": [],
   "source": [
    "from scripts.labeling import NERLabeler"
   ]
  },
  {
   "cell_type": "code",
   "execution_count": 16,
   "metadata": {},
   "outputs": [
    {
     "data": {
      "text/html": [
       "<div>\n",
       "<style scoped>\n",
       "    .dataframe tbody tr th:only-of-type {\n",
       "        vertical-align: middle;\n",
       "    }\n",
       "\n",
       "    .dataframe tbody tr th {\n",
       "        vertical-align: top;\n",
       "    }\n",
       "\n",
       "    .dataframe thead th {\n",
       "        text-align: right;\n",
       "    }\n",
       "</style>\n",
       "<table border=\"1\" class=\"dataframe\">\n",
       "  <thead>\n",
       "    <tr style=\"text-align: right;\">\n",
       "      <th></th>\n",
       "      <th>Unnamed: 0</th>\n",
       "      <th>channel_title</th>\n",
       "      <th>channel_username</th>\n",
       "      <th>id</th>\n",
       "      <th>message</th>\n",
       "      <th>date</th>\n",
       "      <th>media_path</th>\n",
       "      <th>labled</th>\n",
       "    </tr>\n",
       "  </thead>\n",
       "  <tbody>\n",
       "    <tr>\n",
       "      <th>0</th>\n",
       "      <td>2</td>\n",
       "      <td>ሞደርን ሾፒንግ ሴንተር MODERN SHOPPING CENTER</td>\n",
       "      <td>@modernshoppingcenter</td>\n",
       "      <td>4584</td>\n",
       "      <td>ቴሌግራምtmemodernshoppingcenter በአዲስ ነገረ ሁሌም ቀዳሚዏ...</td>\n",
       "      <td>2024-09-28 16:36:59+00:00</td>\n",
       "      <td>./data/media\\@modernshoppingcenter_4584.jpg</td>\n",
       "      <td>[ቴሌግራምtmemodernshoppingcenter O, በአዲስ O, ነገረ O...</td>\n",
       "    </tr>\n",
       "    <tr>\n",
       "      <th>1</th>\n",
       "      <td>6</td>\n",
       "      <td>ሞደርን ሾፒንግ ሴንተር MODERN SHOPPING CENTER</td>\n",
       "      <td>@modernshoppingcenter</td>\n",
       "      <td>4580</td>\n",
       "      <td>ቴሌግራምtmemodernshoppingcenter በአዲስ ነገረ ሁሌም ቀዳሚዏ...</td>\n",
       "      <td>2024-09-28 08:19:45+00:00</td>\n",
       "      <td>./data/media\\@modernshoppingcenter_4580.jpg</td>\n",
       "      <td>[ቴሌግራምtmemodernshoppingcenter O, በአዲስ O, ነገረ O...</td>\n",
       "    </tr>\n",
       "    <tr>\n",
       "      <th>2</th>\n",
       "      <td>12</td>\n",
       "      <td>ሞደርን ሾፒንግ ሴንተር MODERN SHOPPING CENTER</td>\n",
       "      <td>@modernshoppingcenter</td>\n",
       "      <td>4574</td>\n",
       "      <td>ቴሌግራምtmemodernshoppingcenter በአዲስ ነገረ ሁሌም ቀዳሚዏ...</td>\n",
       "      <td>2024-09-27 18:25:48+00:00</td>\n",
       "      <td>./data/media\\@modernshoppingcenter_4574.jpg</td>\n",
       "      <td>[ቴሌግራምtmemodernshoppingcenter O, በአዲስ O, ነገረ O...</td>\n",
       "    </tr>\n",
       "    <tr>\n",
       "      <th>3</th>\n",
       "      <td>18</td>\n",
       "      <td>ሞደርን ሾፒንግ ሴንተር MODERN SHOPPING CENTER</td>\n",
       "      <td>@modernshoppingcenter</td>\n",
       "      <td>4568</td>\n",
       "      <td>ቴሌግራምtmemodernshoppingcenter በአዲስ ነገረ ሁሌም ቀዳሚዏ...</td>\n",
       "      <td>2024-09-26 03:45:21+00:00</td>\n",
       "      <td>./data/media\\@modernshoppingcenter_4568.jpg</td>\n",
       "      <td>[ቴሌግራምtmemodernshoppingcenter O, በአዲስ O, ነገረ O...</td>\n",
       "    </tr>\n",
       "    <tr>\n",
       "      <th>4</th>\n",
       "      <td>22</td>\n",
       "      <td>ሞደርን ሾፒንግ ሴንተር MODERN SHOPPING CENTER</td>\n",
       "      <td>@modernshoppingcenter</td>\n",
       "      <td>4564</td>\n",
       "      <td>ቴሌግራምtmemodernshoppingcenter በአዲስ ነገረ ሁሌም ቀዳሚዏ...</td>\n",
       "      <td>2024-09-25 12:29:56+00:00</td>\n",
       "      <td>./data/media\\@modernshoppingcenter_4564.jpg</td>\n",
       "      <td>[ቴሌግራምtmemodernshoppingcenter O, በአዲስ O, ነገረ O...</td>\n",
       "    </tr>\n",
       "    <tr>\n",
       "      <th>...</th>\n",
       "      <td>...</td>\n",
       "      <td>...</td>\n",
       "      <td>...</td>\n",
       "      <td>...</td>\n",
       "      <td>...</td>\n",
       "      <td>...</td>\n",
       "      <td>...</td>\n",
       "      <td>...</td>\n",
       "    </tr>\n",
       "    <tr>\n",
       "      <th>2156</th>\n",
       "      <td>5705</td>\n",
       "      <td>CLASSY BRAND ®</td>\n",
       "      <td>@classybrands</td>\n",
       "      <td>5176</td>\n",
       "      <td>CLASSY BRAND Turkey Shirts Price 1799br ለሱቅና ብ...</td>\n",
       "      <td>2023-04-11 20:23:10+00:00</td>\n",
       "      <td>./data/media\\@classybrands_5176.jpg</td>\n",
       "      <td>[CLASSY O, BRAND O, Turkey O, Shirts O, Price ...</td>\n",
       "    </tr>\n",
       "    <tr>\n",
       "      <th>2157</th>\n",
       "      <td>5706</td>\n",
       "      <td>CLASSY BRAND ®</td>\n",
       "      <td>@classybrands</td>\n",
       "      <td>5175</td>\n",
       "      <td>CLASSY BRAND Turkey Shirts Price 1799br ለሱቅና ብ...</td>\n",
       "      <td>2023-04-11 20:23:06+00:00</td>\n",
       "      <td>./data/media\\@classybrands_5175.jpg</td>\n",
       "      <td>[CLASSY O, BRAND O, Turkey O, Shirts O, Price ...</td>\n",
       "    </tr>\n",
       "    <tr>\n",
       "      <th>2158</th>\n",
       "      <td>5707</td>\n",
       "      <td>CLASSY BRAND ®</td>\n",
       "      <td>@classybrands</td>\n",
       "      <td>5174</td>\n",
       "      <td>CLASSY BRAND Turkey Shirts Price 1799br ለሱቅና ብ...</td>\n",
       "      <td>2023-04-11 20:23:01+00:00</td>\n",
       "      <td>./data/media\\@classybrands_5174.jpg</td>\n",
       "      <td>[CLASSY O, BRAND O, Turkey O, Shirts O, Price ...</td>\n",
       "    </tr>\n",
       "    <tr>\n",
       "      <th>2159</th>\n",
       "      <td>5708</td>\n",
       "      <td>CLASSY BRAND ®</td>\n",
       "      <td>@classybrands</td>\n",
       "      <td>5173</td>\n",
       "      <td>CLASSY BRAND Turkey Sweater Price 2000br ለሱቅና ...</td>\n",
       "      <td>2023-04-11 20:22:56+00:00</td>\n",
       "      <td>./data/media\\@classybrands_5173.jpg</td>\n",
       "      <td>[CLASSY O, BRAND O, Turkey O, Sweater B-Produc...</td>\n",
       "    </tr>\n",
       "    <tr>\n",
       "      <th>2160</th>\n",
       "      <td>5709</td>\n",
       "      <td>CLASSY BRAND ®</td>\n",
       "      <td>@classybrands</td>\n",
       "      <td>5172</td>\n",
       "      <td>CLASSY BRAND Old School Jacket High Quality Pr...</td>\n",
       "      <td>2023-04-11 20:22:51+00:00</td>\n",
       "      <td>./data/media\\@classybrands_5172.jpg</td>\n",
       "      <td>[CLASSY O, BRAND O, Old O, School O, Jacket B-...</td>\n",
       "    </tr>\n",
       "  </tbody>\n",
       "</table>\n",
       "<p>2161 rows × 8 columns</p>\n",
       "</div>"
      ],
      "text/plain": [
       "      Unnamed: 0                          channel_title  \\\n",
       "0              2  ሞደርን ሾፒንግ ሴንተር MODERN SHOPPING CENTER   \n",
       "1              6  ሞደርን ሾፒንግ ሴንተር MODERN SHOPPING CENTER   \n",
       "2             12  ሞደርን ሾፒንግ ሴንተር MODERN SHOPPING CENTER   \n",
       "3             18  ሞደርን ሾፒንግ ሴንተር MODERN SHOPPING CENTER   \n",
       "4             22  ሞደርን ሾፒንግ ሴንተር MODERN SHOPPING CENTER   \n",
       "...          ...                                    ...   \n",
       "2156        5705                         CLASSY BRAND ®   \n",
       "2157        5706                         CLASSY BRAND ®   \n",
       "2158        5707                         CLASSY BRAND ®   \n",
       "2159        5708                         CLASSY BRAND ®   \n",
       "2160        5709                         CLASSY BRAND ®   \n",
       "\n",
       "           channel_username    id  \\\n",
       "0     @modernshoppingcenter  4584   \n",
       "1     @modernshoppingcenter  4580   \n",
       "2     @modernshoppingcenter  4574   \n",
       "3     @modernshoppingcenter  4568   \n",
       "4     @modernshoppingcenter  4564   \n",
       "...                     ...   ...   \n",
       "2156          @classybrands  5176   \n",
       "2157          @classybrands  5175   \n",
       "2158          @classybrands  5174   \n",
       "2159          @classybrands  5173   \n",
       "2160          @classybrands  5172   \n",
       "\n",
       "                                                message  \\\n",
       "0     ቴሌግራምtmemodernshoppingcenter በአዲስ ነገረ ሁሌም ቀዳሚዏ...   \n",
       "1     ቴሌግራምtmemodernshoppingcenter በአዲስ ነገረ ሁሌም ቀዳሚዏ...   \n",
       "2     ቴሌግራምtmemodernshoppingcenter በአዲስ ነገረ ሁሌም ቀዳሚዏ...   \n",
       "3     ቴሌግራምtmemodernshoppingcenter በአዲስ ነገረ ሁሌም ቀዳሚዏ...   \n",
       "4     ቴሌግራምtmemodernshoppingcenter በአዲስ ነገረ ሁሌም ቀዳሚዏ...   \n",
       "...                                                 ...   \n",
       "2156  CLASSY BRAND Turkey Shirts Price 1799br ለሱቅና ብ...   \n",
       "2157  CLASSY BRAND Turkey Shirts Price 1799br ለሱቅና ብ...   \n",
       "2158  CLASSY BRAND Turkey Shirts Price 1799br ለሱቅና ብ...   \n",
       "2159  CLASSY BRAND Turkey Sweater Price 2000br ለሱቅና ...   \n",
       "2160  CLASSY BRAND Old School Jacket High Quality Pr...   \n",
       "\n",
       "                           date                                   media_path  \\\n",
       "0     2024-09-28 16:36:59+00:00  ./data/media\\@modernshoppingcenter_4584.jpg   \n",
       "1     2024-09-28 08:19:45+00:00  ./data/media\\@modernshoppingcenter_4580.jpg   \n",
       "2     2024-09-27 18:25:48+00:00  ./data/media\\@modernshoppingcenter_4574.jpg   \n",
       "3     2024-09-26 03:45:21+00:00  ./data/media\\@modernshoppingcenter_4568.jpg   \n",
       "4     2024-09-25 12:29:56+00:00  ./data/media\\@modernshoppingcenter_4564.jpg   \n",
       "...                         ...                                          ...   \n",
       "2156  2023-04-11 20:23:10+00:00          ./data/media\\@classybrands_5176.jpg   \n",
       "2157  2023-04-11 20:23:06+00:00          ./data/media\\@classybrands_5175.jpg   \n",
       "2158  2023-04-11 20:23:01+00:00          ./data/media\\@classybrands_5174.jpg   \n",
       "2159  2023-04-11 20:22:56+00:00          ./data/media\\@classybrands_5173.jpg   \n",
       "2160  2023-04-11 20:22:51+00:00          ./data/media\\@classybrands_5172.jpg   \n",
       "\n",
       "                                                 labled  \n",
       "0     [ቴሌግራምtmemodernshoppingcenter O, በአዲስ O, ነገረ O...  \n",
       "1     [ቴሌግራምtmemodernshoppingcenter O, በአዲስ O, ነገረ O...  \n",
       "2     [ቴሌግራምtmemodernshoppingcenter O, በአዲስ O, ነገረ O...  \n",
       "3     [ቴሌግራምtmemodernshoppingcenter O, በአዲስ O, ነገረ O...  \n",
       "4     [ቴሌግራምtmemodernshoppingcenter O, በአዲስ O, ነገረ O...  \n",
       "...                                                 ...  \n",
       "2156  [CLASSY O, BRAND O, Turkey O, Shirts O, Price ...  \n",
       "2157  [CLASSY O, BRAND O, Turkey O, Shirts O, Price ...  \n",
       "2158  [CLASSY O, BRAND O, Turkey O, Shirts O, Price ...  \n",
       "2159  [CLASSY O, BRAND O, Turkey O, Sweater B-Produc...  \n",
       "2160  [CLASSY O, BRAND O, Old O, School O, Jacket B-...  \n",
       "\n",
       "[2161 rows x 8 columns]"
      ]
     },
     "execution_count": 16,
     "metadata": {},
     "output_type": "execute_result"
    }
   ],
   "source": [
    "labeler = NERLabeler()\n",
    "data['labled'] = data['message'].map(labeler.label_text)\n",
    "data"
   ]
  },
  {
   "cell_type": "code",
   "execution_count": 15,
   "metadata": {},
   "outputs": [
    {
     "name": "stdout",
     "output_type": "stream",
     "text": [
      "147241\n"
     ]
    }
   ],
   "source": [
    "result = labeler.save_conll(df=data, col='labled', path='../data/conll.txt')\n",
    "print(len(result.split('\\n')))"
   ]
  }
 ],
 "metadata": {
  "kernelspec": {
   "display_name": "venv",
   "language": "python",
   "name": "python3"
  },
  "language_info": {
   "codemirror_mode": {
    "name": "ipython",
    "version": 3
   },
   "file_extension": ".py",
   "mimetype": "text/x-python",
   "name": "python",
   "nbconvert_exporter": "python",
   "pygments_lexer": "ipython3",
   "version": "3.10.2"
  }
 },
 "nbformat": 4,
 "nbformat_minor": 2
}
